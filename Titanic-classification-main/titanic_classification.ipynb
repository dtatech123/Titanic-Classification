{
 "cells": [
  {
   "cell_type": "code",
   "execution_count": 19,
   "id": "eddc4dd2",
   "metadata": {},
   "outputs": [
    {
     "ename": "ParserError",
     "evalue": "Error tokenizing data. C error: Expected 1 fields in line 12, saw 2\n",
     "output_type": "error",
     "traceback": [
      "\u001b[1;31m---------------------------------------------------------------------------\u001b[0m",
      "\u001b[1;31mParserError\u001b[0m                               Traceback (most recent call last)",
      "Cell \u001b[1;32mIn[19], line 3\u001b[0m\n\u001b[0;32m      1\u001b[0m \u001b[38;5;66;03m# Reading \u001b[39;00m\n\u001b[0;32m      2\u001b[0m \u001b[38;5;28;01mimport\u001b[39;00m \u001b[38;5;21;01mpandas\u001b[39;00m \u001b[38;5;28;01mas\u001b[39;00m \u001b[38;5;21;01mpd\u001b[39;00m \n\u001b[1;32m----> 3\u001b[0m train \u001b[38;5;241m=\u001b[39m \u001b[43mpd\u001b[49m\u001b[38;5;241;43m.\u001b[39;49m\u001b[43mread_csv\u001b[49m\u001b[43m(\u001b[49m\u001b[38;5;124;43m'\u001b[39;49m\u001b[38;5;124;43mhttp://localhost:8888/edit/train.csv\u001b[39;49m\u001b[38;5;124;43m'\u001b[39;49m\u001b[43m)\u001b[49m\n\u001b[0;32m      4\u001b[0m test \u001b[38;5;241m=\u001b[39m pd\u001b[38;5;241m.\u001b[39mread_csv(\u001b[38;5;124m'\u001b[39m\u001b[38;5;124mhttp://localhost:8888/edit/test.csv\u001b[39m\u001b[38;5;124m'\u001b[39m)   \u001b[38;5;66;03m# without Survived\u001b[39;00m\n",
      "File \u001b[1;32m~\\AppData\\Local\\Programs\\Python\\Python310\\lib\\site-packages\\pandas\\io\\parsers\\readers.py:912\u001b[0m, in \u001b[0;36mread_csv\u001b[1;34m(filepath_or_buffer, sep, delimiter, header, names, index_col, usecols, dtype, engine, converters, true_values, false_values, skipinitialspace, skiprows, skipfooter, nrows, na_values, keep_default_na, na_filter, verbose, skip_blank_lines, parse_dates, infer_datetime_format, keep_date_col, date_parser, date_format, dayfirst, cache_dates, iterator, chunksize, compression, thousands, decimal, lineterminator, quotechar, quoting, doublequote, escapechar, comment, encoding, encoding_errors, dialect, on_bad_lines, delim_whitespace, low_memory, memory_map, float_precision, storage_options, dtype_backend)\u001b[0m\n\u001b[0;32m    899\u001b[0m kwds_defaults \u001b[38;5;241m=\u001b[39m _refine_defaults_read(\n\u001b[0;32m    900\u001b[0m     dialect,\n\u001b[0;32m    901\u001b[0m     delimiter,\n\u001b[1;32m   (...)\u001b[0m\n\u001b[0;32m    908\u001b[0m     dtype_backend\u001b[38;5;241m=\u001b[39mdtype_backend,\n\u001b[0;32m    909\u001b[0m )\n\u001b[0;32m    910\u001b[0m kwds\u001b[38;5;241m.\u001b[39mupdate(kwds_defaults)\n\u001b[1;32m--> 912\u001b[0m \u001b[38;5;28;01mreturn\u001b[39;00m \u001b[43m_read\u001b[49m\u001b[43m(\u001b[49m\u001b[43mfilepath_or_buffer\u001b[49m\u001b[43m,\u001b[49m\u001b[43m \u001b[49m\u001b[43mkwds\u001b[49m\u001b[43m)\u001b[49m\n",
      "File \u001b[1;32m~\\AppData\\Local\\Programs\\Python\\Python310\\lib\\site-packages\\pandas\\io\\parsers\\readers.py:583\u001b[0m, in \u001b[0;36m_read\u001b[1;34m(filepath_or_buffer, kwds)\u001b[0m\n\u001b[0;32m    580\u001b[0m     \u001b[38;5;28;01mreturn\u001b[39;00m parser\n\u001b[0;32m    582\u001b[0m \u001b[38;5;28;01mwith\u001b[39;00m parser:\n\u001b[1;32m--> 583\u001b[0m     \u001b[38;5;28;01mreturn\u001b[39;00m \u001b[43mparser\u001b[49m\u001b[38;5;241;43m.\u001b[39;49m\u001b[43mread\u001b[49m\u001b[43m(\u001b[49m\u001b[43mnrows\u001b[49m\u001b[43m)\u001b[49m\n",
      "File \u001b[1;32m~\\AppData\\Local\\Programs\\Python\\Python310\\lib\\site-packages\\pandas\\io\\parsers\\readers.py:1704\u001b[0m, in \u001b[0;36mTextFileReader.read\u001b[1;34m(self, nrows)\u001b[0m\n\u001b[0;32m   1697\u001b[0m nrows \u001b[38;5;241m=\u001b[39m validate_integer(\u001b[38;5;124m\"\u001b[39m\u001b[38;5;124mnrows\u001b[39m\u001b[38;5;124m\"\u001b[39m, nrows)\n\u001b[0;32m   1698\u001b[0m \u001b[38;5;28;01mtry\u001b[39;00m:\n\u001b[0;32m   1699\u001b[0m     \u001b[38;5;66;03m# error: \"ParserBase\" has no attribute \"read\"\u001b[39;00m\n\u001b[0;32m   1700\u001b[0m     (\n\u001b[0;32m   1701\u001b[0m         index,\n\u001b[0;32m   1702\u001b[0m         columns,\n\u001b[0;32m   1703\u001b[0m         col_dict,\n\u001b[1;32m-> 1704\u001b[0m     ) \u001b[38;5;241m=\u001b[39m \u001b[38;5;28;43mself\u001b[39;49m\u001b[38;5;241;43m.\u001b[39;49m\u001b[43m_engine\u001b[49m\u001b[38;5;241;43m.\u001b[39;49m\u001b[43mread\u001b[49m\u001b[43m(\u001b[49m\u001b[43m  \u001b[49m\u001b[38;5;66;43;03m# type: ignore[attr-defined]\u001b[39;49;00m\n\u001b[0;32m   1705\u001b[0m \u001b[43m        \u001b[49m\u001b[43mnrows\u001b[49m\n\u001b[0;32m   1706\u001b[0m \u001b[43m    \u001b[49m\u001b[43m)\u001b[49m\n\u001b[0;32m   1707\u001b[0m \u001b[38;5;28;01mexcept\u001b[39;00m \u001b[38;5;167;01mException\u001b[39;00m:\n\u001b[0;32m   1708\u001b[0m     \u001b[38;5;28mself\u001b[39m\u001b[38;5;241m.\u001b[39mclose()\n",
      "File \u001b[1;32m~\\AppData\\Local\\Programs\\Python\\Python310\\lib\\site-packages\\pandas\\io\\parsers\\c_parser_wrapper.py:234\u001b[0m, in \u001b[0;36mCParserWrapper.read\u001b[1;34m(self, nrows)\u001b[0m\n\u001b[0;32m    232\u001b[0m \u001b[38;5;28;01mtry\u001b[39;00m:\n\u001b[0;32m    233\u001b[0m     \u001b[38;5;28;01mif\u001b[39;00m \u001b[38;5;28mself\u001b[39m\u001b[38;5;241m.\u001b[39mlow_memory:\n\u001b[1;32m--> 234\u001b[0m         chunks \u001b[38;5;241m=\u001b[39m \u001b[38;5;28;43mself\u001b[39;49m\u001b[38;5;241;43m.\u001b[39;49m\u001b[43m_reader\u001b[49m\u001b[38;5;241;43m.\u001b[39;49m\u001b[43mread_low_memory\u001b[49m\u001b[43m(\u001b[49m\u001b[43mnrows\u001b[49m\u001b[43m)\u001b[49m\n\u001b[0;32m    235\u001b[0m         \u001b[38;5;66;03m# destructive to chunks\u001b[39;00m\n\u001b[0;32m    236\u001b[0m         data \u001b[38;5;241m=\u001b[39m _concatenate_chunks(chunks)\n",
      "File \u001b[1;32m~\\AppData\\Local\\Programs\\Python\\Python310\\lib\\site-packages\\pandas\\_libs\\parsers.pyx:812\u001b[0m, in \u001b[0;36mpandas._libs.parsers.TextReader.read_low_memory\u001b[1;34m()\u001b[0m\n",
      "File \u001b[1;32m~\\AppData\\Local\\Programs\\Python\\Python310\\lib\\site-packages\\pandas\\_libs\\parsers.pyx:873\u001b[0m, in \u001b[0;36mpandas._libs.parsers.TextReader._read_rows\u001b[1;34m()\u001b[0m\n",
      "File \u001b[1;32m~\\AppData\\Local\\Programs\\Python\\Python310\\lib\\site-packages\\pandas\\_libs\\parsers.pyx:848\u001b[0m, in \u001b[0;36mpandas._libs.parsers.TextReader._tokenize_rows\u001b[1;34m()\u001b[0m\n",
      "File \u001b[1;32m~\\AppData\\Local\\Programs\\Python\\Python310\\lib\\site-packages\\pandas\\_libs\\parsers.pyx:859\u001b[0m, in \u001b[0;36mpandas._libs.parsers.TextReader._check_tokenize_status\u001b[1;34m()\u001b[0m\n",
      "File \u001b[1;32m~\\AppData\\Local\\Programs\\Python\\Python310\\lib\\site-packages\\pandas\\_libs\\parsers.pyx:2025\u001b[0m, in \u001b[0;36mpandas._libs.parsers.raise_parser_error\u001b[1;34m()\u001b[0m\n",
      "\u001b[1;31mParserError\u001b[0m: Error tokenizing data. C error: Expected 1 fields in line 12, saw 2\n"
     ]
    }
   ],
   "source": [
    "# Reading \n",
    "import pandas as pd \n",
    "train = pd.read_csv('http://localhost:8888/edit/train.csv')\n",
    "test = pd.read_csv('http://localhost:8888/edit/test.csv')   # without Survived"
   ]
  },
  {
   "cell_type": "code",
   "execution_count": null,
   "id": "9933c9f5",
   "metadata": {},
   "outputs": [],
   "source": [
    "train.head()"
   ]
  },
  {
   "cell_type": "code",
   "execution_count": null,
   "id": "f16d2336",
   "metadata": {},
   "outputs": [],
   "source": [
    "\"\"\"### Data Info\n",
    "- Survived: \t0 = No, 1 = Yes  \n",
    "- pclass: \tTicket class\t1 = 1st, 2 = 2nd, 3 = 3rd  \t\n",
    "- sibsp:\t# of siblings / spouses aboard the Titanic  \t\n",
    "- parch:\t# of parents / children aboard the Titanic  \t\n",
    "- ticket:\tTicket number\t\n",
    "- cabin:\tCabin number\t\n",
    "- embarked:\tPort of Embarkation\tC = Cherbourg, Q = Queenstown, S = Southampton  \n",
    "\"\"\""
   ]
  },
  {
   "cell_type": "code",
   "execution_count": null,
   "id": "af623efb",
   "metadata": {},
   "outputs": [],
   "source": [
    "test.head()"
   ]
  },
  {
   "cell_type": "code",
   "execution_count": null,
   "id": "3490989c",
   "metadata": {},
   "outputs": [],
   "source": [
    "train.shape"
   ]
  },
  {
   "cell_type": "code",
   "execution_count": null,
   "id": "f1b91562",
   "metadata": {},
   "outputs": [],
   "source": [
    "test.shape"
   ]
  },
  {
   "cell_type": "code",
   "execution_count": null,
   "id": "ba24e950",
   "metadata": {},
   "outputs": [],
   "source": [
    "train.info()"
   ]
  },
  {
   "cell_type": "code",
   "execution_count": null,
   "id": "2bd31dab",
   "metadata": {},
   "outputs": [],
   "source": [
    "test.info()"
   ]
  },
  {
   "cell_type": "code",
   "execution_count": null,
   "id": "99edf72c",
   "metadata": {},
   "outputs": [],
   "source": [
    "train.isnull().sum()"
   ]
  },
  {
   "cell_type": "code",
   "execution_count": null,
   "id": "94d72ee6",
   "metadata": {},
   "outputs": [],
   "source": [
    "test.isnull().sum()"
   ]
  },
  {
   "cell_type": "code",
   "execution_count": null,
   "id": "fb44404d",
   "metadata": {},
   "outputs": [],
   "source": [
    "\"\"\"**Age** and **Cabin** have many NULL values\n",
    "\n",
    "# Visualization\n",
    "\"\"\""
   ]
  },
  {
   "cell_type": "code",
   "execution_count": null,
   "id": "c5471a77",
   "metadata": {
    "lines_to_next_cell": 1
   },
   "outputs": [],
   "source": [
    "# Commented out IPython magic to ensure Python compatibility.\n",
    "import matplotlib.pyplot as plt\n",
    "%matplotlib inline\n",
    "import seaborn as sns"
   ]
  },
  {
   "cell_type": "code",
   "execution_count": null,
   "id": "5dd284e1",
   "metadata": {
    "lines_to_next_cell": 1
   },
   "outputs": [],
   "source": [
    "def chart(col):\n",
    "    survived=train[train['Survived']==1][col].value_counts()\n",
    "    dead=train[train['Survived']==0][col].value_counts()\n",
    "    df=pd.DataFrame([survived,dead])\n",
    "    df.index = ['Survived','Dead']\n",
    "    df.plot(kind='bar',figsize=(10,5))"
   ]
  },
  {
   "cell_type": "code",
   "execution_count": null,
   "id": "f690aa0a",
   "metadata": {},
   "outputs": [],
   "source": [
    "chart('Sex')"
   ]
  },
  {
   "cell_type": "code",
   "execution_count": null,
   "id": "8d045528",
   "metadata": {},
   "outputs": [],
   "source": [
    "\"\"\"* Women more survivied than Men\"\"\""
   ]
  },
  {
   "cell_type": "code",
   "execution_count": null,
   "id": "71dbee6b",
   "metadata": {},
   "outputs": [],
   "source": [
    "chart('Pclass')"
   ]
  },
  {
   "cell_type": "code",
   "execution_count": null,
   "id": "c33ccace",
   "metadata": {},
   "outputs": [],
   "source": [
    "\"\"\"* class 1 more survived than other classes\n",
    "* class 3 more dead than other classes\n",
    "\n",
    "# ===========================\n",
    "# Pre-processing\n",
    "\n",
    "* Many algorithms in machine learning require a numerical representation of objects, since such representations facilitate processing and statistical analysis.\n",
    "\n",
    "we try use the name column to get any info by using title of each person\n",
    "\"\"\""
   ]
  },
  {
   "cell_type": "code",
   "execution_count": null,
   "id": "9c9d0cc2",
   "metadata": {},
   "outputs": [],
   "source": [
    "train.head()"
   ]
  },
  {
   "cell_type": "code",
   "execution_count": null,
   "id": "8d16579f",
   "metadata": {},
   "outputs": [],
   "source": [
    "train_test_data = [train,test]\n",
    "for dataset in train_test_data:\n",
    "    dataset['Title'] = dataset['Name'].str.extract(' ([A-Za-z]+)\\.', expand=False)"
   ]
  },
  {
   "cell_type": "code",
   "execution_count": null,
   "id": "579b5b02",
   "metadata": {},
   "outputs": [],
   "source": [
    "train['Title'].value_counts()"
   ]
  },
  {
   "cell_type": "code",
   "execution_count": null,
   "id": "f5e3d284",
   "metadata": {},
   "outputs": [],
   "source": [
    "test['Title'].value_counts()"
   ]
  },
  {
   "cell_type": "code",
   "execution_count": null,
   "id": "39610b64",
   "metadata": {},
   "outputs": [],
   "source": [
    "\"\"\"* So, we must mapping this values \n",
    "\n",
    "Mr : 0  \n",
    "Miss : 1  \n",
    "Mrs: 2  \n",
    "Others: 3\n",
    "\"\"\""
   ]
  },
  {
   "cell_type": "code",
   "execution_count": null,
   "id": "1858d089",
   "metadata": {},
   "outputs": [],
   "source": [
    "mapping = {\"Mr\": 0, \"Miss\": 1, \"Mrs\": 2, \n",
    "                 \"Master\": 3, \"Dr\": 3, \"Rev\": 3, \"Col\": 3, \"Major\": 3,\n",
    "           \"Mlle\": 3,\"Countess\": 3,\"Ms\": 3, \"Lady\": 3, \"Jonkheer\": 3,\n",
    "           \"Don\": 3, \"Dona\" : 3, \"Mme\": 3,\"Capt\": 3,\"Sir\": 3 }"
   ]
  },
  {
   "cell_type": "code",
   "execution_count": null,
   "id": "d8ca90b1",
   "metadata": {},
   "outputs": [],
   "source": [
    "for dataset in train_test_data:\n",
    "    dataset['Title'] = dataset['Title'].map(mapping)"
   ]
  },
  {
   "cell_type": "code",
   "execution_count": null,
   "id": "88bb99ff",
   "metadata": {},
   "outputs": [],
   "source": [
    "chart('Title')"
   ]
  },
  {
   "cell_type": "code",
   "execution_count": null,
   "id": "434e199a",
   "metadata": {},
   "outputs": [],
   "source": [
    "\"\"\"* **Mr** is highly dead \n",
    "* **Miss** is highly Survived \n",
    "\n",
    "\"\"\""
   ]
  },
  {
   "cell_type": "code",
   "execution_count": null,
   "id": "1d4f70dd",
   "metadata": {},
   "outputs": [],
   "source": [
    "# delete unnecessary feature from dataset\n",
    "train.drop('Name', axis=1, inplace=True)\n",
    "test.drop('Name', axis=1, inplace=True)"
   ]
  },
  {
   "cell_type": "code",
   "execution_count": null,
   "id": "ba9c424a",
   "metadata": {},
   "outputs": [],
   "source": [
    "train.head()"
   ]
  },
  {
   "cell_type": "code",
   "execution_count": null,
   "id": "5fe1c436",
   "metadata": {},
   "outputs": [],
   "source": [
    "test.head()"
   ]
  },
  {
   "cell_type": "code",
   "execution_count": null,
   "id": "810702a7",
   "metadata": {},
   "outputs": [],
   "source": [
    "\"\"\"# ==================================\n",
    "* Mapping of Sex col \n",
    "  * male: 0\n",
    "  * female: 1\n",
    "\"\"\""
   ]
  },
  {
   "cell_type": "code",
   "execution_count": null,
   "id": "63397a8c",
   "metadata": {},
   "outputs": [],
   "source": [
    "import numpy as np\n",
    "train['Sex']=np.where(train['Sex']=='male',0,1)\n",
    "test['Sex']=np.where(test['Sex']=='male',0,1)"
   ]
  },
  {
   "cell_type": "code",
   "execution_count": null,
   "id": "c1927c16",
   "metadata": {},
   "outputs": [],
   "source": [
    "train.head()"
   ]
  },
  {
   "cell_type": "code",
   "execution_count": null,
   "id": "a507c164",
   "metadata": {},
   "outputs": [],
   "source": [
    "test.head()"
   ]
  },
  {
   "cell_type": "code",
   "execution_count": null,
   "id": "a19e6947",
   "metadata": {},
   "outputs": [],
   "source": [
    "chart('Sex')"
   ]
  },
  {
   "cell_type": "code",
   "execution_count": null,
   "id": "b7739b9f",
   "metadata": {},
   "outputs": [],
   "source": [
    "\"\"\"# ===================\n",
    "\n",
    "* Missing values in **Age** column\n",
    "\n",
    "**filling missing values of age by madian of ages for each title**\n",
    "\"\"\""
   ]
  },
  {
   "cell_type": "code",
   "execution_count": null,
   "id": "38e424a8",
   "metadata": {},
   "outputs": [],
   "source": [
    "train[\"Age\"].fillna(train.groupby(\"Title\")[\"Age\"].transform(\"median\"),inplace=True)\n",
    "test[\"Age\"].fillna(test.groupby(\"Title\")[\"Age\"].transform(\"median\"),inplace=True)"
   ]
  },
  {
   "cell_type": "code",
   "execution_count": null,
   "id": "02ac8db4",
   "metadata": {},
   "outputs": [],
   "source": [
    "train.Age.isnull().sum()"
   ]
  },
  {
   "cell_type": "code",
   "execution_count": null,
   "id": "8a0c4cb6",
   "metadata": {},
   "outputs": [],
   "source": [
    "test.Age.isnull().sum()"
   ]
  },
  {
   "cell_type": "code",
   "execution_count": null,
   "id": "d0366d46",
   "metadata": {},
   "outputs": [],
   "source": [
    "\"\"\"* No null values in Age \"\"\""
   ]
  },
  {
   "cell_type": "code",
   "execution_count": null,
   "id": "2d7d5a4a",
   "metadata": {},
   "outputs": [],
   "source": [
    "sns.kdeplot(x='Age',hue='Survived',data=train, shade=True).set(xlim=(0, train['Age'].max()))\n",
    "plt.show()"
   ]
  },
  {
   "cell_type": "code",
   "execution_count": null,
   "id": "bbbb2b6c",
   "metadata": {},
   "outputs": [],
   "source": [
    "\"\"\"* the most ages dead and Survived is between 20 and 40 years\n",
    "\n",
    "# ==================================\n",
    "\n",
    "### Embarked\n",
    " * filling missing values\n",
    "\"\"\""
   ]
  },
  {
   "cell_type": "code",
   "execution_count": null,
   "id": "f6c5dd4a",
   "metadata": {},
   "outputs": [],
   "source": [
    "train.isnull().sum()"
   ]
  },
  {
   "cell_type": "code",
   "execution_count": null,
   "id": "9a0d84fa",
   "metadata": {},
   "outputs": [],
   "source": [
    "chart('Embarked')"
   ]
  },
  {
   "cell_type": "code",
   "execution_count": null,
   "id": "ac0fba57",
   "metadata": {},
   "outputs": [],
   "source": [
    "\"\"\"* Most Passenges are from S , so will fill any null value with \"S\"\n",
    "\"\"\""
   ]
  },
  {
   "cell_type": "code",
   "execution_count": null,
   "id": "d7175119",
   "metadata": {},
   "outputs": [],
   "source": [
    "for dataset in train_test_data:\n",
    "    dataset['Embarked'] = dataset['Embarked'].fillna('S')"
   ]
  },
  {
   "cell_type": "code",
   "execution_count": null,
   "id": "b7a25124",
   "metadata": {},
   "outputs": [],
   "source": [
    "train.isnull().sum()"
   ]
  },
  {
   "cell_type": "code",
   "execution_count": null,
   "id": "44c3b880",
   "metadata": {},
   "outputs": [],
   "source": [
    "test.isnull().sum()"
   ]
  },
  {
   "cell_type": "code",
   "execution_count": null,
   "id": "e1a07849",
   "metadata": {},
   "outputs": [],
   "source": [
    "# mapping for Embarked \n",
    "Map={\"S\": 0, \"C\": 1, \"Q\": 2}\n",
    "for dataset in train_test_data:\n",
    "    dataset['Embarked'] = dataset['Embarked'].map(Map)"
   ]
  },
  {
   "cell_type": "code",
   "execution_count": null,
   "id": "cd794ac8",
   "metadata": {},
   "outputs": [],
   "source": [
    "\"\"\"### Fare\n",
    " * filling missing values\n",
    "\"\"\""
   ]
  },
  {
   "cell_type": "code",
   "execution_count": null,
   "id": "aafbd178",
   "metadata": {},
   "outputs": [],
   "source": [
    "train[\"Fare\"].fillna(train.groupby(\"Pclass\")[\"Fare\"].transform(\"median\"),inplace=True)\n",
    "test[\"Fare\"].fillna(test.groupby(\"Pclass\")[\"Fare\"].transform(\"median\"),inplace=True)"
   ]
  },
  {
   "cell_type": "code",
   "execution_count": null,
   "id": "d4c2f3c5",
   "metadata": {},
   "outputs": [],
   "source": [
    "sns.kdeplot(x='Fare',hue='Survived',data=train, shade=True)\n",
    "plt.show()"
   ]
  },
  {
   "cell_type": "code",
   "execution_count": null,
   "id": "4f278099",
   "metadata": {},
   "outputs": [],
   "source": [
    "\"\"\"* The most Passengers are dead , they have low Fare\n",
    "\n",
    "# =================================\n",
    "\"\"\""
   ]
  },
  {
   "cell_type": "code",
   "execution_count": null,
   "id": "d84276f1",
   "metadata": {},
   "outputs": [],
   "source": [
    "train.Cabin.value_counts()"
   ]
  },
  {
   "cell_type": "code",
   "execution_count": null,
   "id": "a263adf8",
   "metadata": {},
   "outputs": [],
   "source": [
    "for dataset in train_test_data:\n",
    "    dataset['Cabin'] = dataset['Cabin'].str[:1]"
   ]
  },
  {
   "cell_type": "code",
   "execution_count": null,
   "id": "008f992f",
   "metadata": {},
   "outputs": [],
   "source": [
    "train.Cabin.value_counts()"
   ]
  },
  {
   "cell_type": "code",
   "execution_count": null,
   "id": "e9cf670d",
   "metadata": {},
   "outputs": [],
   "source": [
    "test.Cabin.value_counts()"
   ]
  },
  {
   "cell_type": "code",
   "execution_count": null,
   "id": "cc3c34e0",
   "metadata": {},
   "outputs": [],
   "source": [
    "chart('Cabin')"
   ]
  },
  {
   "cell_type": "code",
   "execution_count": null,
   "id": "19a469f6",
   "metadata": {},
   "outputs": [],
   "source": [
    "\"\"\"* Most Passengers in cabin C\"\"\""
   ]
  },
  {
   "cell_type": "code",
   "execution_count": null,
   "id": "9c6348ef",
   "metadata": {},
   "outputs": [],
   "source": [
    "mapping = {\"A\": 0, \"B\": 0.4, \"C\": 0.8, \"D\": 1.2, \"E\": 1.6, \"F\": 2, \"G\": 2.4, \"T\": 2.8}\n",
    "for dataset in train_test_data:\n",
    "    dataset['Cabin'] = dataset['Cabin'].map(mapping)"
   ]
  },
  {
   "cell_type": "code",
   "execution_count": null,
   "id": "aa1ed690",
   "metadata": {},
   "outputs": [],
   "source": [
    "# Filling\n",
    "train[\"Cabin\"].fillna(train.groupby(\"Pclass\")[\"Cabin\"].transform(\"median\"), inplace=True)\n",
    "test[\"Cabin\"].fillna(test.groupby(\"Pclass\")[\"Cabin\"].transform(\"median\"), inplace=True)"
   ]
  },
  {
   "cell_type": "code",
   "execution_count": null,
   "id": "14d78aee",
   "metadata": {},
   "outputs": [],
   "source": [
    "train.isnull().sum()"
   ]
  },
  {
   "cell_type": "code",
   "execution_count": null,
   "id": "9b858d88",
   "metadata": {},
   "outputs": [],
   "source": [
    "test.isnull().sum()"
   ]
  },
  {
   "cell_type": "code",
   "execution_count": null,
   "id": "512f9854",
   "metadata": {},
   "outputs": [],
   "source": [
    "\"\"\"**No Null values in our data**\n",
    "\n",
    "# ======================\n",
    "\n",
    "#### AllFamilySize\n",
    "\"\"\""
   ]
  },
  {
   "cell_type": "code",
   "execution_count": null,
   "id": "efb20bbb",
   "metadata": {},
   "outputs": [],
   "source": [
    "train[\"AllFamilySize\"] = train[\"SibSp\"] + train[\"Parch\"] + 1\n",
    "test[\"AllFamilySize\"] = test[\"SibSp\"] + test[\"Parch\"] + 1"
   ]
  },
  {
   "cell_type": "code",
   "execution_count": null,
   "id": "b28f95ab",
   "metadata": {},
   "outputs": [],
   "source": [
    "sns.kdeplot(x='AllFamilySize',hue='Survived',data=train, shade=True)\n",
    "plt.show()"
   ]
  },
  {
   "cell_type": "code",
   "execution_count": null,
   "id": "0568cf1d",
   "metadata": {},
   "outputs": [],
   "source": [
    "# drop some features\n",
    "features_drop = ['Ticket', 'SibSp', 'Parch']\n",
    "train = train.drop(features_drop, axis=1)\n",
    "test = test.drop(features_drop, axis=1)\n",
    "train = train.drop(['PassengerId'], axis=1)"
   ]
  },
  {
   "cell_type": "code",
   "execution_count": null,
   "id": "2bafe298",
   "metadata": {},
   "outputs": [],
   "source": [
    "train.head()"
   ]
  },
  {
   "cell_type": "code",
   "execution_count": null,
   "id": "854a1e8e",
   "metadata": {},
   "outputs": [],
   "source": [
    "test.head()"
   ]
  },
  {
   "cell_type": "code",
   "execution_count": null,
   "id": "18cb50ae",
   "metadata": {},
   "outputs": [],
   "source": [
    "X = train.drop('Survived', axis=1)\n",
    "y = train['Survived']"
   ]
  },
  {
   "cell_type": "code",
   "execution_count": null,
   "id": "29c7e965",
   "metadata": {},
   "outputs": [],
   "source": [
    "X.shape, y.shape"
   ]
  },
  {
   "cell_type": "code",
   "execution_count": null,
   "id": "ea711ce4",
   "metadata": {},
   "outputs": [],
   "source": [
    "X.head()"
   ]
  },
  {
   "cell_type": "code",
   "execution_count": null,
   "id": "a2a85c30",
   "metadata": {},
   "outputs": [],
   "source": [
    "y.head()"
   ]
  },
  {
   "cell_type": "code",
   "execution_count": null,
   "id": "f402a1c4",
   "metadata": {},
   "outputs": [],
   "source": [
    "\"\"\"* when we look to ranges of min and max , they are big , so we will apply feature scalling \"\"\""
   ]
  },
  {
   "cell_type": "code",
   "execution_count": null,
   "id": "3d7315fb",
   "metadata": {},
   "outputs": [],
   "source": [
    "# Feature Scalling For Training Data\n",
    "from sklearn.preprocessing import StandardScaler\n",
    "sc_X = StandardScaler()\n",
    "X = sc_X.fit_transform(X)\n",
    "X = sc_X.transform(X)"
   ]
  },
  {
   "cell_type": "code",
   "execution_count": null,
   "id": "04e759e4",
   "metadata": {},
   "outputs": [],
   "source": [
    "X=pd.DataFrame(X)\n",
    "X"
   ]
  },
  {
   "cell_type": "code",
   "execution_count": null,
   "id": "3cabb315",
   "metadata": {},
   "outputs": [],
   "source": [
    "# Splitting data \n",
    "from sklearn.model_selection import train_test_split\n",
    "X_train, X_test, y_train, y_test = train_test_split(X, y, test_size = 0.25, random_state = 0)"
   ]
  },
  {
   "cell_type": "code",
   "execution_count": null,
   "id": "f36318ae",
   "metadata": {},
   "outputs": [],
   "source": [
    "X_train.head()"
   ]
  },
  {
   "cell_type": "code",
   "execution_count": null,
   "id": "d685ee2b",
   "metadata": {},
   "outputs": [],
   "source": [
    "\"\"\"# Modeling\n",
    "\n",
    "# 1- RandomForestClassifier\n",
    "\"\"\""
   ]
  },
  {
   "cell_type": "code",
   "execution_count": null,
   "id": "d02d5c76",
   "metadata": {},
   "outputs": [],
   "source": [
    "from sklearn.ensemble import RandomForestClassifier\n",
    "Cl_RF=RandomForestClassifier()\n",
    "Cl_RF=Cl_RF.fit(X_train,y_train)"
   ]
  },
  {
   "cell_type": "code",
   "execution_count": null,
   "id": "9e7bf877",
   "metadata": {},
   "outputs": [],
   "source": [
    "# Prediction \n",
    "y_pred_RF=Cl_RF.predict(X_test)\n",
    "y_pred_RF"
   ]
  },
  {
   "cell_type": "code",
   "execution_count": null,
   "id": "73748cb4",
   "metadata": {},
   "outputs": [],
   "source": [
    "# Accuracy \n",
    "print('Accuracy of RandomForestClassifier model is ',Cl_RF.score(X_test,y_test)*100,'%')"
   ]
  },
  {
   "cell_type": "code",
   "execution_count": null,
   "id": "b306a7c2",
   "metadata": {},
   "outputs": [],
   "source": [
    "\"\"\"# 2- KN Neighbors\"\"\""
   ]
  },
  {
   "cell_type": "code",
   "execution_count": null,
   "id": "6f3f7618",
   "metadata": {},
   "outputs": [],
   "source": [
    "# KN Neighbors\n",
    "from sklearn.neighbors import KNeighborsClassifier  \n",
    "KNN_model=KNeighborsClassifier(n_neighbors=58)\n",
    "KNN_model.fit(X_train,y_train)"
   ]
  },
  {
   "cell_type": "code",
   "execution_count": null,
   "id": "c82dee2d",
   "metadata": {},
   "outputs": [],
   "source": [
    "# Prediction \n",
    "y_pred_KNN=KNN_model.predict(X_test)\n",
    "y_pred_KNN"
   ]
  },
  {
   "cell_type": "code",
   "execution_count": null,
   "id": "1aeaba44",
   "metadata": {},
   "outputs": [],
   "source": [
    "# Accuracy \n",
    "print('Accuracy of KNN_Model model is ',KNN_model.score(X_test,y_test)*100,'%')"
   ]
  },
  {
   "cell_type": "code",
   "execution_count": null,
   "id": "bb23b196",
   "metadata": {},
   "outputs": [],
   "source": [
    "\"\"\"# 3- Decision Tree\"\"\""
   ]
  },
  {
   "cell_type": "code",
   "execution_count": null,
   "id": "1d4cebca",
   "metadata": {},
   "outputs": [],
   "source": [
    "# Decision Tree\n",
    "from sklearn.tree import DecisionTreeClassifier\n",
    "DT_model=DecisionTreeClassifier(criterion='entropy', random_state=0)\n",
    "DT_model.fit(X_train,y_train)"
   ]
  },
  {
   "cell_type": "code",
   "execution_count": null,
   "id": "24efd0ff",
   "metadata": {},
   "outputs": [],
   "source": [
    "# Prediction \n",
    "y_pred_DT=DT_model.predict(X_test)\n",
    "y_pred_DT"
   ]
  },
  {
   "cell_type": "code",
   "execution_count": null,
   "id": "6548a078",
   "metadata": {},
   "outputs": [],
   "source": [
    "# Accuracy \n",
    "print('Accuracy of Decision Tree model is ',DT_model.score(X_test,y_test)*100,'%')"
   ]
  },
  {
   "cell_type": "code",
   "execution_count": null,
   "id": "2c294457",
   "metadata": {},
   "outputs": [],
   "source": [
    "\"\"\"# 4- Support Vector Machine SVM \"\"\""
   ]
  },
  {
   "cell_type": "code",
   "execution_count": null,
   "id": "1bbf243e",
   "metadata": {},
   "outputs": [],
   "source": [
    "# SVM\n",
    "from sklearn.svm import SVC  \n",
    "SVM_model=SVC(kernel='rbf')\n",
    "SVM_model.fit(X_train,y_train)"
   ]
  },
  {
   "cell_type": "code",
   "execution_count": null,
   "id": "00ab8f49",
   "metadata": {},
   "outputs": [],
   "source": [
    "# Prediction \n",
    "y_pred_SVM=SVM_model.predict(X_test)\n",
    "y_pred_SVM"
   ]
  },
  {
   "cell_type": "code",
   "execution_count": null,
   "id": "5f426d16",
   "metadata": {},
   "outputs": [],
   "source": [
    "# Accuracy \n",
    "print('Accuracy of SVM model is ',SVM_model.score(X_test,y_test)*100,'%')"
   ]
  },
  {
   "cell_type": "code",
   "execution_count": null,
   "id": "abf88ea7",
   "metadata": {},
   "outputs": [],
   "source": [
    "\"\"\"# 5-Naive Bayes\"\"\""
   ]
  },
  {
   "cell_type": "code",
   "execution_count": null,
   "id": "16bc5fcc",
   "metadata": {},
   "outputs": [],
   "source": [
    "# Naive_Bayes\n",
    "from sklearn.naive_bayes import GaussianNB\n",
    "NB_model=GaussianNB()\n",
    "NB_model.fit(X_train,y_train)"
   ]
  },
  {
   "cell_type": "code",
   "execution_count": null,
   "id": "be0ae2b3",
   "metadata": {},
   "outputs": [],
   "source": [
    "# Prediction \n",
    "y_pred_NB=NB_model.predict(X_test)\n",
    "y_pred_NB"
   ]
  },
  {
   "cell_type": "code",
   "execution_count": null,
   "id": "8532c303",
   "metadata": {},
   "outputs": [],
   "source": [
    "# Accuracy \n",
    "print('Accuracy of Naive Bayes model is ',NB_model.score(X_test,y_test)*100,'%')"
   ]
  },
  {
   "cell_type": "code",
   "execution_count": null,
   "id": "69fa3d15",
   "metadata": {},
   "outputs": [],
   "source": [
    "print('Accuracy of KNN_Model model is ',KNN_model.score(X_test,y_test)*100,'%')\n",
    "print('Accuracy of SVM model is ',SVM_model.score(X_test,y_test)*100,'%')\n",
    "print('Accuracy of Decision Tree model is ',DT_model.score(X_test,y_test)*100,'%')\n",
    "print('Accuracy of Naive Bayes model is ',NB_model.score(X_test,y_test)*100,'%')\n",
    "print('Accuracy of Random Forest model is ',Cl_RF.score(X_test,y_test)*100,'%')"
   ]
  },
  {
   "cell_type": "code",
   "execution_count": null,
   "id": "3aae5ec4",
   "metadata": {},
   "outputs": [],
   "source": [
    "\"\"\"# The High model accuracy is : \n",
    "             Random Forest model model is (85%) , SVM model is  (80.7%) and KNN_Model model is (81.6%)\n",
    "\n",
    "# ==========================================================\n",
    "\n",
    "# Testing Data\n",
    "\"\"\""
   ]
  },
  {
   "cell_type": "code",
   "execution_count": null,
   "id": "fe1d0b55",
   "metadata": {},
   "outputs": [],
   "source": [
    "test.head()"
   ]
  },
  {
   "cell_type": "code",
   "execution_count": null,
   "id": "460623b9",
   "metadata": {},
   "outputs": [],
   "source": [
    "Test=test.drop('PassengerId',axis=1)\n",
    "Test.head()"
   ]
  },
  {
   "cell_type": "code",
   "execution_count": null,
   "id": "44b729a4",
   "metadata": {},
   "outputs": [],
   "source": [
    "# Feature Scalling For Testing Data\n",
    "from sklearn.preprocessing import StandardScaler\n",
    "sc_test = StandardScaler()\n",
    "test_data= sc_X.fit_transform(Test)\n",
    "test_data= sc_X.transform(Test)"
   ]
  },
  {
   "cell_type": "code",
   "execution_count": null,
   "id": "e3545ad7",
   "metadata": {},
   "outputs": [],
   "source": [
    "test_data=pd.DataFrame(test_data)"
   ]
  },
  {
   "cell_type": "code",
   "execution_count": null,
   "id": "aff46b78",
   "metadata": {},
   "outputs": [],
   "source": [
    "test_data.head()"
   ]
  },
  {
   "cell_type": "code",
   "execution_count": null,
   "id": "ffa5ca06",
   "metadata": {},
   "outputs": [],
   "source": [
    "\"\"\"# 1- Test data whit Random Forest \"\"\""
   ]
  },
  {
   "cell_type": "code",
   "execution_count": null,
   "id": "9e0067ef",
   "metadata": {},
   "outputs": [],
   "source": [
    "y_pred_RF =Cl_RF.predict(test_data)\n",
    "y_pred_RF"
   ]
  },
  {
   "cell_type": "code",
   "execution_count": null,
   "id": "845bba7d",
   "metadata": {},
   "outputs": [],
   "source": [
    "Y_pred_RF=pd.DataFrame(y_pred_RF)\n",
    "test['Survived(RF)']=Y_pred_RF\n",
    "test.head()"
   ]
  },
  {
   "cell_type": "code",
   "execution_count": null,
   "id": "1a87fb94",
   "metadata": {},
   "outputs": [],
   "source": [
    "\"\"\"# ====================================================\n",
    "\n",
    "# 2- Test data whit SVM\n",
    "\"\"\""
   ]
  },
  {
   "cell_type": "code",
   "execution_count": null,
   "id": "4c4fd15a",
   "metadata": {},
   "outputs": [],
   "source": [
    "y_pred_SVM =SVM_model.predict(test_data)\n",
    "y_pred_SVM"
   ]
  },
  {
   "cell_type": "code",
   "execution_count": null,
   "id": "d0837463",
   "metadata": {},
   "outputs": [],
   "source": [
    "Y_predSVM=pd.DataFrame(y_pred_SVM)\n",
    "test['Survived(SVM)']=Y_predSVM\n",
    "test.head(50)"
   ]
  },
  {
   "cell_type": "code",
   "execution_count": null,
   "id": "a8dcbfea",
   "metadata": {},
   "outputs": [],
   "source": [
    "\"\"\"# ============================================\n",
    "\n",
    "# 3- Test data whit KNN\n",
    "\"\"\""
   ]
  },
  {
   "cell_type": "code",
   "execution_count": null,
   "id": "02b8e1ea",
   "metadata": {},
   "outputs": [],
   "source": [
    "y_pred_SVM =SVM_model.predict(test_data)\n",
    "y_pred_SVM"
   ]
  },
  {
   "cell_type": "code",
   "execution_count": null,
   "id": "15d3402e",
   "metadata": {},
   "outputs": [],
   "source": [
    "Y_predKNN=pd.DataFrame(y_pred_KNN)\n",
    "test['Survived(KNN)']=Y_predKNN\n",
    "test.head(50)"
   ]
  },
  {
   "cell_type": "code",
   "execution_count": null,
   "id": "41d41cf6",
   "metadata": {},
   "outputs": [],
   "source": [
    "# Saving The Result of our model\n",
    "test.to_csv('Result.csv', index=False)"
   ]
  }
 ],
 "metadata": {
  "jupytext": {
   "cell_metadata_filter": "-all",
   "main_language": "python",
   "notebook_metadata_filter": "-all"
  },
  "kernelspec": {
   "display_name": "Python 3 (ipykernel)",
   "language": "python",
   "name": "python3"
  },
  "language_info": {
   "codemirror_mode": {
    "name": "ipython",
    "version": 3
   },
   "file_extension": ".py",
   "mimetype": "text/x-python",
   "name": "python",
   "nbconvert_exporter": "python",
   "pygments_lexer": "ipython3",
   "version": "3.10.0"
  }
 },
 "nbformat": 4,
 "nbformat_minor": 5
}
